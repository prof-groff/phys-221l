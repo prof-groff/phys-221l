{
 "cells": [
  {
   "cell_type": "markdown",
   "metadata": {},
   "source": [
    "# Free Fall vs. Falling w/ Air Drag"
   ]
  },
  {
   "cell_type": "markdown",
   "metadata": {},
   "source": [
    "This is a ipython notebook running in a browser based interface called jupyter. Python is a computer program, ipython is an interactive version of python, and a notebook is a cell-based approach to programing in python. Each cell can be run individually by using the \"Run\" button or by pressing shift+enter."
   ]
  },
  {
   "cell_type": "code",
   "execution_count": 1,
   "metadata": {},
   "outputs": [
    {
     "data": {
      "text/html": [
       "<div id=\"glowscript\" class=\"glowscript\"></div>"
      ],
      "text/plain": [
       "<IPython.core.display.HTML object>"
      ]
     },
     "metadata": {},
     "output_type": "display_data"
    },
    {
     "data": {
      "application/javascript": [
       "if (typeof Jupyter !== \"undefined\") { window.__context = { glowscript_container: $(\"#glowscript\").removeAttr(\"id\")};}else{ element.textContent = ' ';}"
      ],
      "text/plain": [
       "<IPython.core.display.Javascript object>"
      ]
     },
     "metadata": {},
     "output_type": "display_data"
    }
   ],
   "source": [
    "# This is a comment, it doesn't do anything but inform.\n",
    "# Run this cell to import useful packages.\n",
    "from vpython import *"
   ]
  },
  {
   "cell_type": "markdown",
   "metadata": {},
   "source": [
    "## Free Fall Simulated"
   ]
  },
  {
   "cell_type": "code",
   "execution_count": 2,
   "metadata": {},
   "outputs": [
    {
     "data": {
      "text/html": [
       "<div id=\"glowscript\" class=\"glowscript\"></div>"
      ],
      "text/plain": [
       "<IPython.core.display.HTML object>"
      ]
     },
     "metadata": {},
     "output_type": "display_data"
    },
    {
     "data": {
      "application/javascript": [
       "if (typeof Jupyter !== \"undefined\") { window.__context = { glowscript_container: $(\"#glowscript\").removeAttr(\"id\")};}else{ element.textContent = ' ';}"
      ],
      "text/plain": [
       "<IPython.core.display.Javascript object>"
      ]
     },
     "metadata": {},
     "output_type": "display_data"
    },
    {
     "data": {
      "application/javascript": [
       "if (typeof Jupyter !== \"undefined\") {require.undef(\"nbextensions/vpython_libraries/glow.min\");}else{element.textContent = ' ';}"
      ],
      "text/plain": [
       "<IPython.core.display.Javascript object>"
      ]
     },
     "metadata": {},
     "output_type": "display_data"
    },
    {
     "data": {
      "application/javascript": [
       "if (typeof Jupyter !== \"undefined\") {require.undef(\"nbextensions/vpython_libraries/glowcomm\");}else{element.textContent = ' ';}"
      ],
      "text/plain": [
       "<IPython.core.display.Javascript object>"
      ]
     },
     "metadata": {},
     "output_type": "display_data"
    },
    {
     "data": {
      "application/javascript": [
       "if (typeof Jupyter !== \"undefined\") {require.undef(\"nbextensions/vpython_libraries/jquery-ui.custom.min\");}else{element.textContent = ' ';}"
      ],
      "text/plain": [
       "<IPython.core.display.Javascript object>"
      ]
     },
     "metadata": {},
     "output_type": "display_data"
    },
    {
     "data": {
      "application/javascript": [
       "if (typeof Jupyter !== \"undefined\") {require([\"nbextensions/vpython_libraries/glow.min\"], function(){console.log(\"GLOW LOADED\");});}else{element.textContent = ' ';}"
      ],
      "text/plain": [
       "<IPython.core.display.Javascript object>"
      ]
     },
     "metadata": {},
     "output_type": "display_data"
    },
    {
     "data": {
      "application/javascript": [
       "if (typeof Jupyter !== \"undefined\") {require([\"nbextensions/vpython_libraries/glowcomm\"], function(){console.log(\"GLOWCOMM LOADED\");});}else{element.textContent = ' ';}"
      ],
      "text/plain": [
       "<IPython.core.display.Javascript object>"
      ]
     },
     "metadata": {},
     "output_type": "display_data"
    },
    {
     "data": {
      "application/javascript": [
       "if (typeof Jupyter !== \"undefined\") {require([\"nbextensions/vpython_libraries/jquery-ui.custom.min\"], function(){console.log(\"JQUERY LOADED\");});}else{element.textContent = ' ';}"
      ],
      "text/plain": [
       "<IPython.core.display.Javascript object>"
      ]
     },
     "metadata": {},
     "output_type": "display_data"
    },
    {
     "name": "stdout",
     "output_type": "stream",
     "text": [
      "time = 10.009999999999831 s\n",
      "speed = 98.0979999999992 m/s\n",
      "y position = -491.47097999999687 m\n"
     ]
    }
   ],
   "source": [
    "# Run this cell TWICE to see a simulation of a red \"apple\" in free-fall. The first time the simulation will finish\n",
    "# but no graphics will be visable. I don't know why?\n",
    "\n",
    "# This sets up the scence (the visual part of the simulation)\n",
    "scene = canvas()\n",
    "scene.title='Free Fall'\n",
    "scene.width=500\n",
    "scene.height=500\n",
    "scene.align='left'\n",
    "scene.camera.pos=vector(250,-250,0) # this makes the upper left corner (x, y) = (0, 0)\n",
    "\n",
    "# This creates a sphere object and sets its initial physical properties. \n",
    "apple = sphere(pos=vector(200,0,0), size=vector(8,8,8), color=color.red)\n",
    "\n",
    "apple.mass = 1               # mass (kg)\n",
    "apple.pos = vector(200,0,0)  # initial position (m)\n",
    "apple.v = vector(0,0,0)      # initial velocity (m/s)\n",
    "\n",
    "# Time conditions\n",
    "t = 0.0                      # start time (s)\n",
    "dt = 0.01                    # time step (s)\n",
    "tmax = 10                    # total time to run simulation (s)\n",
    "\n",
    "# Plots\n",
    "yGraph=graph(title=\"position vs t\", xmin=0, xmax=tmax, ymin=-500, ymax=apple.pos.y, width=400, height=200,align='right',\n",
    "            xtitle='time (s)', ytitle='y (m)')\n",
    "vGraph=graph(title=\"speed vs t\", xmin=0, xmax=tmax, ymin=0, ymax=100, width=400, height=200,align='right', \n",
    "            xtitle='time (s)', ytitle='v (m/s)')\n",
    "\n",
    "aydata=gcurve(color=color.red, graph=yGraph)\n",
    "avdata=gcurve(color=color.red, graph=vGraph)\n",
    "\n",
    "# Calculation loop\n",
    "while t <= tmax:             # Repeat the following indented lines until t <= tmax.\n",
    "    \n",
    "    rate(100)                # Set how fast the animation runs (frames/second)                         \n",
    "      \n",
    "    Fg = 9.8*apple.mass*vector(0,-1,0)    # gravitational force acting on the system\n",
    "    Fnet = Fg                  \n",
    "    \n",
    "    dv = Fnet*dt/apple.mass\n",
    "    \n",
    "    apple.v = apple.v + dv\n",
    "    apple.pos = apple.pos + apple.v*dt\n",
    "\n",
    "    aydata.plot(t,apple.pos.y)\n",
    "    avdata.plot(t,mag(apple.v))\n",
    "    \n",
    "    t = t + dt              # Update time\n",
    "    \n",
    "print('time =', t, 's')     # Print time, velocity, and position at the end of the simulation\n",
    "print('speed =', mag(apple.v), 'm/s')       \n",
    "print('y position =', apple.pos.y, 'm')"
   ]
  },
  {
   "cell_type": "markdown",
   "metadata": {},
   "source": [
    "## Questions\n",
    "1) What is the speed of the apple at the end of the simulation. How far has it fallen?\n",
    "\n",
    "\n",
    "2) Why is the v versus t plot linear? In other words, what does this mean physically?\n",
    "\n",
    "\n",
    "3) Which line of code determines how the ball is initially rendered including its properties like size, color, etc.?\n",
    "\n",
    "\n",
    "4) Change the apple.mass variable to something different and run the simulation again. Does this affect the motion of the apple?"
   ]
  },
  {
   "cell_type": "markdown",
   "metadata": {},
   "source": [
    "## Add a Second Object\n",
    "\n",
    "The code below is minimally functional. As you can see it renders a second green \"pear\" but it doesn't fall. Your goal is to add to the code so it falls exactly like the apple, and its velocity and position data is displayed alongside the apple's in green on the graphs. Also, the green pear's final speed and y positon should be displayed when the simulation completes. When finished, show your work to the instructor before continuing. "
   ]
  },
  {
   "cell_type": "code",
   "execution_count": 3,
   "metadata": {},
   "outputs": [
    {
     "data": {
      "text/html": [
       "<div id=\"glowscript\" class=\"glowscript\"></div>"
      ],
      "text/plain": [
       "<IPython.core.display.HTML object>"
      ]
     },
     "metadata": {},
     "output_type": "display_data"
    },
    {
     "data": {
      "application/javascript": [
       "if (typeof Jupyter !== \"undefined\") { window.__context = { glowscript_container: $(\"#glowscript\").removeAttr(\"id\")};}else{ element.textContent = ' ';}"
      ],
      "text/plain": [
       "<IPython.core.display.Javascript object>"
      ]
     },
     "metadata": {},
     "output_type": "display_data"
    },
    {
     "name": "stdout",
     "output_type": "stream",
     "text": [
      "time = 10.009999999999831 s\n",
      "speed = 98.0979999999992 m/s\n",
      "y position = -491.47097999999687 m\n"
     ]
    }
   ],
   "source": [
    "## Run this cell to see a simulation of a red \"apple\" in free-fall.\n",
    "\n",
    "# This sets up the scence (the visual part of the simulation)\n",
    "scene = canvas()\n",
    "scene.title='Free Fall vs Falling with Drag'\n",
    "scene.width=500\n",
    "scene.height=500\n",
    "scene.align='left'\n",
    "scene.camera.pos=vector(250,-250,0) # this makes the upper left corner (x, y) = (0, 0)\n",
    "\n",
    "# This creates TWO sphere objects and sets the initial physical properties. \n",
    "apple = sphere(pos=vector(200,0,0), size=vector(8,8,8), color=color.red)\n",
    "pear = sphere(pos=vector(300,0,0), size=vector(8,8,8), color=color.green)\n",
    "\n",
    "apple.mass = 1               # mass (kg)\n",
    "apple.pos = vector(200,0,0)  # initial position (m)\n",
    "apple.v = vector(0,0,0)      # initial velocity (m/s)\n",
    "\n",
    "# Time conditions\n",
    "t = 0.0                      # start time (s)\n",
    "dt = 0.01                    # time step (s)\n",
    "tmax = 10                    # total time to run simulation (s)\n",
    "\n",
    "# Plots\n",
    "yGraph=graph(title=\"position vs t\", xmin=0, xmax=tmax, ymin=-500, ymax=apple.pos.y, width=400, height=200,align='right',\n",
    "            xtitle='time (s)', ytitle='y (m)')\n",
    "vGraph=graph(title=\"speed vs t\", xmin=0, xmax=tmax, ymin=0, ymax=100, width=400, height=200,align='right', \n",
    "            xtitle='time (s)', ytitle='v (m/s)')\n",
    "\n",
    "aydata=gcurve(color=color.red, graph=yGraph)\n",
    "avdata=gcurve(color=color.red, graph=vGraph)\n",
    "\n",
    "# Calculation loop\n",
    "while t <= tmax:             # Repeat the following indented lines until t <= tmax.\n",
    "    \n",
    "    rate(100)                # Set how fast the animation runs (frames/second)                         \n",
    "      \n",
    "    Fg = 9.8*apple.mass*vector(0,-1,0)    # gravitational force acting on the system\n",
    "    Fnet = Fg                  \n",
    "    \n",
    "    dv = Fnet*dt/apple.mass\n",
    "    \n",
    "    apple.v = apple.v + dv\n",
    "    apple.pos = apple.pos + apple.v*dt\n",
    "\n",
    "    aydata.plot(t,apple.pos.y)\n",
    "    avdata.plot(t,mag(apple.v))\n",
    "    \n",
    "    t = t + dt              # Update time\n",
    "    \n",
    "print('time =', t, 's')     # Print time, velocity, and position at the end of the simulation\n",
    "print('speed =', mag(apple.v), 'm/s')       \n",
    "print('y position =', apple.pos.y, 'm')"
   ]
  },
  {
   "cell_type": "markdown",
   "metadata": {},
   "source": [
    "## Add Air Drag to the Simulation"
   ]
  },
  {
   "cell_type": "markdown",
   "metadata": {},
   "source": [
    "Modify the code above so that the \"pear's\" motion is affected by simulated air drag. To do this you will have to add another force to the net force equation and define some constants associated with this force. This force will be approximated by\n",
    "$$F = \\frac{1}{2}C\\rho Av^2$$\n",
    "where $C$ is the drag coefficent (a property of the shape, material, etc.), $\\rho$ is the density of the air, $A$ is the cross-sectional area, and $v$ is the speed. Hint: To calculate $v^2$ you will use \n",
    "```python\n",
    "mag(ball.v)**2*norm(ball.v)\n",
    "```\n",
    "\n",
    "Once you have a working simulation with working simulated air drag, show the instructor before proceeding."
   ]
  },
  {
   "cell_type": "markdown",
   "metadata": {},
   "source": [
    "## Questions\n",
    "1) Run the simulation with $m = 1$ kg, $C = 0.5$, $\\rho=1.23$ kg/m<sup>3</sup>, and $A=0.02$ m<sup>2</sup>. What is the terminal velocity of the pear? Does this agree with the analytical value for terminal velocity? Show your answers and your work to the instructor before proceeding.\n",
    "\n",
    "2) Select ```File > Download as > HTML (.html)``` and upload this file to the Sakai dropbox. "
   ]
  },
  {
   "cell_type": "code",
   "execution_count": null,
   "metadata": {},
   "outputs": [],
   "source": []
  }
 ],
 "metadata": {
  "kernelspec": {
   "display_name": "VPython",
   "language": "python",
   "name": "vpython"
  },
  "language_info": {
   "codemirror_mode": {
    "name": "ipython",
    "version": 3
   },
   "file_extension": ".py",
   "mimetype": "text/x-python",
   "name": "python",
   "nbconvert_exporter": "python",
   "pygments_lexer": "ipython3",
   "version": "3.7.0"
  }
 },
 "nbformat": 4,
 "nbformat_minor": 2
}
