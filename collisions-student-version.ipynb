{
 "cells": [
  {
   "cell_type": "markdown",
   "metadata": {},
   "source": [
    "# Collisions"
   ]
  },
  {
   "cell_type": "markdown",
   "metadata": {},
   "source": [
    "This is a ipython notebook running in a browser based interface called jupyter. Python is a computer program, ipython is an interactive version of python, and a notebook is a cell-based approach to programing in python. Each cell can be run individually by using the \"Run\" button or by pressing shift+enter."
   ]
  },
  {
   "cell_type": "code",
   "execution_count": 2,
   "metadata": {},
   "outputs": [],
   "source": [
    "# This is a comment, it doesn't do anything but inform.\n",
    "# Run this cell to import useful packages.\n",
    "from vpython import *"
   ]
  },
  {
   "cell_type": "markdown",
   "metadata": {},
   "source": [
    "## 1D Collision Simulated"
   ]
  },
  {
   "cell_type": "code",
   "execution_count": 3,
   "metadata": {},
   "outputs": [
    {
     "data": {
      "text/html": [
       "<div id=\"glowscript\" class=\"glowscript\"></div>"
      ],
      "text/plain": [
       "<IPython.core.display.HTML object>"
      ]
     },
     "metadata": {},
     "output_type": "display_data"
    },
    {
     "data": {
      "application/javascript": [
       "if (typeof Jupyter !== \"undefined\") { window.__context = { glowscript_container: $(\"#glowscript\").removeAttr(\"id\")};}else{ element.textContent = ' ';}"
      ],
      "text/plain": [
       "<IPython.core.display.Javascript object>"
      ]
     },
     "metadata": {},
     "output_type": "display_data"
    },
    {
     "data": {
      "application/javascript": [
       "if (typeof Jupyter !== \"undefined\") {require.undef(\"nbextensions/vpython_libraries/glow.min\");}else{element.textContent = ' ';}"
      ],
      "text/plain": [
       "<IPython.core.display.Javascript object>"
      ]
     },
     "metadata": {},
     "output_type": "display_data"
    },
    {
     "data": {
      "application/javascript": [
       "if (typeof Jupyter !== \"undefined\") {require.undef(\"nbextensions/vpython_libraries/glowcomm\");}else{element.textContent = ' ';}"
      ],
      "text/plain": [
       "<IPython.core.display.Javascript object>"
      ]
     },
     "metadata": {},
     "output_type": "display_data"
    },
    {
     "data": {
      "application/javascript": [
       "if (typeof Jupyter !== \"undefined\") {require.undef(\"nbextensions/vpython_libraries/jquery-ui.custom.min\");}else{element.textContent = ' ';}"
      ],
      "text/plain": [
       "<IPython.core.display.Javascript object>"
      ]
     },
     "metadata": {},
     "output_type": "display_data"
    },
    {
     "data": {
      "application/javascript": [
       "if (typeof Jupyter !== \"undefined\") {require([\"nbextensions/vpython_libraries/glow.min\"], function(){console.log(\"GLOW LOADED\");});}else{element.textContent = ' ';}"
      ],
      "text/plain": [
       "<IPython.core.display.Javascript object>"
      ]
     },
     "metadata": {},
     "output_type": "display_data"
    },
    {
     "data": {
      "application/javascript": [
       "if (typeof Jupyter !== \"undefined\") {require([\"nbextensions/vpython_libraries/glowcomm\"], function(){console.log(\"GLOWCOMM LOADED\");});}else{element.textContent = ' ';}"
      ],
      "text/plain": [
       "<IPython.core.display.Javascript object>"
      ]
     },
     "metadata": {},
     "output_type": "display_data"
    },
    {
     "data": {
      "application/javascript": [
       "if (typeof Jupyter !== \"undefined\") {require([\"nbextensions/vpython_libraries/jquery-ui.custom.min\"], function(){console.log(\"JQUERY LOADED\");});}else{element.textContent = ' ';}"
      ],
      "text/plain": [
       "<IPython.core.display.Javascript object>"
      ]
     },
     "metadata": {},
     "output_type": "display_data"
    },
    {
     "name": "stdout",
     "output_type": "stream",
     "text": [
      "before: v_red =  <0.5, 0, 0>  v_blue = <0, 0, 0>\n",
      "after: v_red =  <6.55046e-05, 0, 0>  v_blue = <0.499934, 0, 0>\n"
     ]
    }
   ],
   "source": [
    "# Run this cell to see a simulation of a collision between two \"balls\". Read the comments below to\n",
    "# get a sense of how the simulation works and what the various parameters are.\n",
    "\n",
    "# set up the visualization\n",
    "scene = canvas()\n",
    "scene.title='Collisions'\n",
    "scene.width=500\n",
    "scene.height=500\n",
    "scene.align='left'\n",
    "scene.camera.pos=vector(0,0,0)\n",
    "\n",
    "# create a blue ball\n",
    "m1 = 0.5 # give it a mass\n",
    "v1 = vec(0.5, 0, 0) # give it an initial velocity, vec(0.5,0,0) is initially moving at 0.5 m/s to the right (+x)\n",
    "\n",
    "ball1=sphere(pos=vec(-1,0,0), radius=0.05, color=color.red)\n",
    "ball1.m=m1\n",
    "ball1.p=m1*v1\n",
    "\n",
    "# create a red ball\n",
    "m2 = 0.5 # give it a mass\n",
    "v2 = vec(0, 0, 0) # give it an initial velocity, vec(0,0,0) is initially at rest\n",
    "\n",
    "ball2=sphere(pos=vec(0,0,0), radius=0.05, color=color.blue)\n",
    "ball2.m=m2\n",
    "ball2.p=m2*v2\n",
    "\n",
    "# calculate the initial total momentum and total kinetic energy of the system\n",
    "p_total = mag(m1*v1 + m2*v2)\n",
    "K_total = 0.5*m1*mag(v1)**2 + 0.5*m2*mag(v2)**2\n",
    "\n",
    "# parameters for the interaction force, modeled as electrostatic repulsion\n",
    "q=2e-7\n",
    "k=9e9\n",
    "\n",
    "# time-step parameters for the simulation\n",
    "t=0\n",
    "tmax=4\n",
    "dt=0.001\n",
    "\n",
    "# elasticity factor - how elastic is the collision\n",
    "epsilon = 1 # perfectly elastic 1, perfectly inelastic = 0\n",
    "\n",
    "# plots\n",
    "pGraph=graph(title=\"momentum vs time\", xmin=0, xmax=tmax, ymin=-p_total, ymax=2*p_total, width=400, height=200,align='right', \n",
    "            xtitle='t (s)', ytitle='p (kg m/s)')\n",
    "KGraph=graph(title=\"kinetic energy vs time\", xmin=0, xmax=tmax, ymin=0, ymax=2*K_total, width=400, height=200, align='right',\n",
    "            xtitle='t (s)', ytitle='K (J)')\n",
    "\n",
    "p1=gcurve(color=color.red, graph=pGraph)\n",
    "p2=gcurve(color=color.blue, graph=pGraph)\n",
    "pT=gcurve(color=color.black, graph=pGraph)\n",
    "\n",
    "K1=gcurve(color=color.red, graph=KGraph)\n",
    "K2=gcurve(color=color.blue, graph=KGraph)\n",
    "KT=gcurve(color=color.black, graph=KGraph)\n",
    "\n",
    "# keep track of the relative position of the balls\n",
    "rlast = mag(ball2.pos-ball1.pos)\n",
    "\n",
    "# run the simulation\n",
    "while t<tmax:\n",
    "    rate(300)\n",
    "    r=ball2.pos-ball1.pos\n",
    "    \n",
    "    Fe=k*q*q*norm(r)/mag(r)**2 # modeling the interaction as electrostatic repulsion\n",
    "    if mag(r) < rlast: # getting closer\n",
    "        F=Fe\n",
    "    else:\n",
    "        F=epsilon*Fe # getting further way, this allows the force to be depend on path (non conservative)\n",
    "    \n",
    "    rlast = mag(r)\n",
    "    \n",
    "    # update the momenta and positions\n",
    "    ball2.p=ball2.p+F*dt\n",
    "    ball1.p=ball1.p-F*dt\n",
    "    ball2.pos=ball2.pos+ball2.p*dt/ball2.m\n",
    "    ball1.pos=ball1.pos+ball1.p*dt/ball1.m\n",
    "    \n",
    "    # update time\n",
    "    t=t+dt\n",
    "    \n",
    "    # update the momentum and kinetic energy plots\n",
    "    p1.plot(t,mag(ball1.p))\n",
    "    p2.plot(t,mag(ball2.p))\n",
    "    pT.plot(t,mag(ball1.p+ball2.p))\n",
    "    \n",
    "    KE1 = 0.5*mag(ball1.p)**2/ball1.m\n",
    "    KE2 = 0.5*mag(ball2.p)**2/ball2.m\n",
    "    K1.plot(t,KE1)\n",
    "    K2.plot(t,KE2)\n",
    "    KT.plot(t,KE1+KE2)\n",
    "    \n",
    "    \n",
    "# print the velocity of the red and blue balls before and after the collision\n",
    "print(\"before: v_red = \", v1, \" v_blue =\", v2)\n",
    "print(\"after: v_red = \", ball1.p/ball1.m, \" v_blue =\", ball2.p/ball2.m)"
   ]
  },
  {
   "cell_type": "markdown",
   "metadata": {},
   "source": [
    "## Elastic Collisions"
   ]
  },
  {
   "cell_type": "markdown",
   "metadata": {},
   "source": [
    "**Run the simulation with the default parameters, the blue ball is initially at rest, both balls have the same mass, and epsilon is set to 1.**\n",
    "\n",
    "1) What happens to the red ball after the collision?\n",
    "\n",
    "2) How does K_total before the collision compare to K_total after the collision?\n",
    "\n",
    "3) Why does K_total dip during the collision and then rebound?\n",
    "\n",
    "4) How can you tell that total momentum is conserved?\n",
    "\n",
    "**Double the mass of the blue ball (m2=1 kg) and run the simulation again.**\n",
    "\n",
    "1) What direction do the balls move after the collision?\n",
    "\n",
    "2) Are kinetic energy and momentum still conserved?\n",
    "\n",
    "**Reset the mass of the blue ball to m2=0.5 kg and double the mass of the red ball (m1=1 kg). Run the simulation again.**\n",
    "\n",
    "1) What direction do the balls move after the collision?\n",
    "\n",
    "2) Are kinetic energy and momentum still conserved?\n"
   ]
  },
  {
   "cell_type": "markdown",
   "metadata": {},
   "source": [
    "## Inelastic Collisions"
   ]
  },
  {
   "cell_type": "markdown",
   "metadata": {},
   "source": [
    "**Run the simulation with m1=m2=0.5 kg and epsilon set to 0.**\n",
    "\n",
    "1) What happens to the balls after they collide?\n",
    "\n",
    "2) Is momentum conserved?\n",
    "\n",
    "3) Is kinetic energy conserved?\n",
    "\n",
    "4) Calculate v1-v2 and v2'-v1'. How do these values compare?\n",
    "\n",
    "**Run the simulation five times with epsilon set at intermediate values between 0 and 1. For each trial, record epsilon, (v1-v2), and (v2'-v1') below, then calculate the coefficient of restitution, which in this case is the ratio of the relative speeds, CR = (v2'-v1')/(v1-v2).**\n",
    "\n",
    "    epsilon     (v1-v2)     (v2'-v1')     CR\n",
    "         \n",
    "\n",
    "\n",
    "\n",
    "\n",
    "1) How do the CR values you calculated compare to the epsilon values? Can you think of a reason why this is the case?"
   ]
  },
  {
   "cell_type": "markdown",
   "metadata": {},
   "source": [
    "## Submit Your Work"
   ]
  },
  {
   "cell_type": "markdown",
   "metadata": {},
   "source": [
    "Answer all of the question above. Then select File > Download as > HTML (.html) and upload this file to the Sakai dropbox."
   ]
  },
  {
   "cell_type": "code",
   "execution_count": null,
   "metadata": {},
   "outputs": [],
   "source": []
  }
 ],
 "metadata": {
  "kernelspec": {
   "display_name": "VPython",
   "language": "python",
   "name": "vpython"
  },
  "language_info": {
   "codemirror_mode": {
    "name": "ipython",
    "version": 3
   },
   "file_extension": ".py",
   "mimetype": "text/x-python",
   "name": "python",
   "nbconvert_exporter": "python",
   "pygments_lexer": "ipython3",
   "version": "3.7.0"
  }
 },
 "nbformat": 4,
 "nbformat_minor": 2
}
