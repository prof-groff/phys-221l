{
 "cells": [
  {
   "cell_type": "markdown",
   "metadata": {},
   "source": [
    "# Pendulum with Drag"
   ]
  },
  {
   "cell_type": "markdown",
   "metadata": {},
   "source": [
    "This is a ipython notebook running in a browser based interface called jupyter. Python is a computer program, ipython is an interactive version of python, and a notebook is a cell-based approach to programing in python. Each cell can be run individually by using the \"Run\" button or by pressing shift+enter."
   ]
  },
  {
   "cell_type": "code",
   "execution_count": 2,
   "metadata": {},
   "outputs": [
    {
     "data": {
      "text/html": [
       "<div id=\"glowscript\" class=\"glowscript\"></div>"
      ],
      "text/plain": [
       "<IPython.core.display.HTML object>"
      ]
     },
     "metadata": {},
     "output_type": "display_data"
    },
    {
     "data": {
      "application/javascript": [
       "if (typeof Jupyter !== \"undefined\") { window.__context = { glowscript_container: $(\"#glowscript\").removeAttr(\"id\")};}else{ element.textContent = ' ';}"
      ],
      "text/plain": [
       "<IPython.core.display.Javascript object>"
      ]
     },
     "metadata": {},
     "output_type": "display_data"
    }
   ],
   "source": [
    "# This is a comment, it doesn't do anything but inform.\n",
    "# Run this cell to import useful packages.\n",
    "from vpython import *"
   ]
  },
  {
   "cell_type": "markdown",
   "metadata": {},
   "source": [
    "## Pendulum Simulated"
   ]
  },
  {
   "cell_type": "code",
   "execution_count": 28,
   "metadata": {},
   "outputs": [
    {
     "data": {
      "text/html": [
       "<div id=\"glowscript\" class=\"glowscript\"></div>"
      ],
      "text/plain": [
       "<IPython.core.display.HTML object>"
      ]
     },
     "metadata": {},
     "output_type": "display_data"
    },
    {
     "data": {
      "application/javascript": [
       "if (typeof Jupyter !== \"undefined\") { window.__context = { glowscript_container: $(\"#glowscript\").removeAttr(\"id\")};}else{ element.textContent = ' ';}"
      ],
      "text/plain": [
       "<IPython.core.display.Javascript object>"
      ]
     },
     "metadata": {},
     "output_type": "display_data"
    }
   ],
   "source": [
    "# set up the visualization\n",
    "scene = canvas()\n",
    "scene.title='Pendulum'\n",
    "scene.width=500\n",
    "scene.height=500\n",
    "scene.align='left'\n",
    "scene.camera.pos=vector(0,0,0)\n",
    "\n",
    "# constants\n",
    "g = 9.8     # acceleration due to gravity (m/s^2)\n",
    "k = 1e5     # spring constant of string (N/m) (very large, but not too large, to model tension)\n",
    "\n",
    "# time parameters\n",
    "t = 0       # start time\n",
    "dt = .001   # time step\n",
    "tmax = 8   # end time\n",
    "\n",
    "# pendulum parameters\n",
    "r = 0.1     # radius (m)\n",
    "m = 0.1     # mass of pendulum bob (kg)\n",
    "L = 1.2     # length of pendulum (m)\n",
    "\n",
    "# initial conditions\n",
    "v = vector(0,0,0)    # initially at rest\n",
    "theta = 25           # starting angle (degrees)\n",
    "\n",
    "# calculated values\n",
    "theta = theta*pi/180 # convert to radians\n",
    "p = m*v              # initial momentum\n",
    "\n",
    "# create the pendulum\n",
    "ceiling = box(pos=vector(0,1,0), size = vector(0.4, 0.01, 0.4), color=color.white) \n",
    "ball = sphere(pos=vector(ceiling.pos.x-L*sin(theta),ceiling.pos.y-L*cos(theta),0), radius=r, color=color.green) \n",
    "string = cylinder(pos=ceiling.pos, axis=ball.pos-ceiling.pos, color=color.white, radius=0.01)\n",
    "\n",
    "# energy calculations\n",
    "K = 0.5*m*mag(v)**2\n",
    "U = m*g*(L-(ceiling.pos.y-ball.pos.y))\n",
    "E = K+U\n",
    "\n",
    "# assign momentum and velocity attributes to the ball\n",
    "ball.p = p\n",
    "ball.v = v\n",
    "\n",
    "# weight is a constant force\n",
    "W = m*g*vector(0,-1,0)\n",
    "\n",
    "# define plot\n",
    "EGraph=graph(title=\"energy vs time\", xmin=0, xmax=tmax, ymin=0, ymax=1.2*E, width=400, height=300,align='right', \n",
    "            xtitle='t (s)', ytitle='energy (J)')\n",
    "\n",
    "K=gcurve(color=color.red, graph=EGraph)\n",
    "U=gcurve(color=color.blue, graph=EGraph)\n",
    "\n",
    "# simulation loop \n",
    "while t < tmax:\n",
    "    rate(300)\n",
    "    \n",
    "    # radial vector between ball and ceiling\n",
    "    r = vector(ball.pos.x - ceiling.pos.x,ball.pos.y - ceiling.pos.y,ball.pos.z - ceiling.pos.z)    \n",
    "    \n",
    "    # force vectors\n",
    "    T = -k*(r-L*r.norm())\n",
    "    \n",
    "    # net force\n",
    "    F = W + T\n",
    "    \n",
    "    ball.p = ball.p + F*dt #change in momentum of pendulum\n",
    "    ball.v = ball.p/m\n",
    "    ball.pos = ball.pos + ball.v*dt  #change in position of pendulum\n",
    "    string.axis = ball.pos - ceiling.pos #rotates string\n",
    "    t = t + dt\n",
    "    \n",
    "    # update the energy graph\n",
    "    KE = 0.5*m*mag(ball.v)**2\n",
    "    PE = m*g*(L-(ceiling.pos.y-ball.pos.y))\n",
    "    K.plot(t,KE)\n",
    "    U.plot(t,PE)"
   ]
  },
  {
   "cell_type": "markdown",
   "metadata": {},
   "source": [
    "## Questions"
   ]
  },
  {
   "cell_type": "markdown",
   "metadata": {},
   "source": [
    "1) What happens to the period of oscillation if the pendulum is made shorter?\n",
    "\n",
    "2) What happens to the period of oscillation if the pendulum bob is made more massive?\n",
    "\n",
    "3) Is there a noticable change to the period of oscillation if the starting angle is changed?"
   ]
  },
  {
   "cell_type": "markdown",
   "metadata": {},
   "source": [
    "## Adding Drag"
   ]
  },
  {
   "cell_type": "markdown",
   "metadata": {},
   "source": [
    "- Add a black line to the graph that shows total mechanical energy, that is, K + U.\n",
    "\n",
    "- Add a force term to the simulation to model drag. Define any necessary parameters too.\n",
    "\n",
    "- Run the simulation with drag included and show your work to the instructor."
   ]
  },
  {
   "cell_type": "markdown",
   "metadata": {},
   "source": [
    "# Questions"
   ]
  },
  {
   "cell_type": "markdown",
   "metadata": {},
   "source": [
    "1) What happens to total energy as the simulation runs?\n",
    "\n",
    "2) Does increasing the mass of the pendulum bob increase or decrease the rate of energy disipation?\n",
    "\n",
    "3) Does increasing the radius of the pendulum bob increase or decrease the rate of energy disipation?"
   ]
  },
  {
   "cell_type": "code",
   "execution_count": null,
   "metadata": {},
   "outputs": [],
   "source": []
  }
 ],
 "metadata": {
  "kernelspec": {
   "display_name": "Python 3",
   "language": "python",
   "name": "python3"
  },
  "language_info": {
   "codemirror_mode": {
    "name": "ipython",
    "version": 3
   },
   "file_extension": ".py",
   "mimetype": "text/x-python",
   "name": "python",
   "nbconvert_exporter": "python",
   "pygments_lexer": "ipython3",
   "version": "3.7.0"
  }
 },
 "nbformat": 4,
 "nbformat_minor": 2
}
